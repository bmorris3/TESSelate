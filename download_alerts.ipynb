{
 "cells": [
  {
   "cell_type": "markdown",
   "metadata": {},
   "source": [
    "# Download alerts and related info"
   ]
  },
  {
   "cell_type": "code",
   "execution_count": 23,
   "metadata": {},
   "outputs": [],
   "source": [
    "from bs4 import BeautifulSoup\n",
    "from astropy.utils.data import download_file\n",
    "from astropy.table import Table"
   ]
  },
  {
   "cell_type": "markdown",
   "metadata": {},
   "source": [
    "Download the `tar.gz` file with all of the light curves"
   ]
  },
  {
   "cell_type": "code",
   "execution_count": 3,
   "metadata": {},
   "outputs": [
    {
     "name": "stdout",
     "output_type": "stream",
     "text": [
      "Downloading https://archive.stsci.edu/prepds/tess-data-alerts/ [Done]\n"
     ]
    }
   ],
   "source": [
    "alerts_url = 'https://archive.stsci.edu/prepds/tess-data-alerts/'\n",
    "alerts_path = download_file(alerts_url)"
   ]
  },
  {
   "cell_type": "code",
   "execution_count": 26,
   "metadata": {},
   "outputs": [
    {
     "name": "stdout",
     "output_type": "stream",
     "text": [
      "Downloading https://archive.stsci.edu/hlsps/tess-data-alerts/hlsp_tess-data-alerts_tess_phot_alert-summary-s01+s02_tess_v5_spoc.csv [Done]\n"
     ]
    }
   ],
   "source": [
    "csv_url = 'https://archive.stsci.edu/hlsps/tess-data-alerts/hlsp_tess-data-alerts_tess_phot_alert-summary-s01+s02_tess_v5_spoc.csv'\n",
    "csv_table = Table.read(download_file(csv_url), format='csv')"
   ]
  },
  {
   "cell_type": "code",
   "execution_count": 56,
   "metadata": {},
   "outputs": [],
   "source": [
    "csv_table.add_index('#tic_id')"
   ]
  },
  {
   "cell_type": "code",
   "execution_count": 4,
   "metadata": {},
   "outputs": [],
   "source": [
    "bs = BeautifulSoup(open(alerts_path, 'r', encoding=\"utf-8\"), 'html.parser')"
   ]
  },
  {
   "cell_type": "code",
   "execution_count": 92,
   "metadata": {},
   "outputs": [
    {
     "data": {
      "text/plain": [
       "<HDF5 group \"/2\" (0 members)>"
      ]
     },
     "execution_count": 92,
     "metadata": {},
     "output_type": "execute_result"
    }
   ],
   "source": [
    "import h5py\n",
    "\n",
    "archive = h5py.File('archive.hdf5', 'r')\n",
    "for group in ['1', '2']:\n",
    "    if not group in archive:\n",
    "        archive.create_group(group)"
   ]
  },
  {
   "cell_type": "code",
   "execution_count": 93,
   "metadata": {},
   "outputs": [],
   "source": [
    "from toolkit import LightCurve, concatenate_light_curves"
   ]
  },
  {
   "cell_type": "code",
   "execution_count": 98,
   "metadata": {},
   "outputs": [
    {
     "name": "stdout",
     "output_type": "stream",
     "text": [
      "Downloading https://archive.stsci.edu//hlsps/tess-data-alerts/hlsp_tess-data-alerts_tess_phot_00032090583-s01_tess_v1_lc.fits [Done]\n",
      "Downloading https://archive.stsci.edu//hlsps/tess-data-alerts/hlsp_tess-data-alerts_tess_phot_00032090583-s02_tess_v1_lc.fits [Done]\n",
      "Downloading https://archive.stsci.edu//hlsps/tess-data-alerts/hlsp_tess-data-alerts_tess_phot_00038846515-s01_tess_v1_lc.fits [Done]\n",
      "Downloading https://archive.stsci.edu//hlsps/tess-data-alerts/hlsp_tess-data-alerts_tess_phot_00038846515-s02_tess_v1_lc.fits [Done]\n",
      "Downloading https://archive.stsci.edu//hlsps/tess-data-alerts/hlsp_tess-data-alerts_tess_phot_00051912829-s01_tess_v1_lc.fits [Done]\n",
      "Downloading https://archive.stsci.edu//hlsps/tess-data-alerts/hlsp_tess-data-alerts_tess_phot_00051912829-s02_tess_v1_lc.fits [Done]\n",
      "Downloading https://archive.stsci.edu//hlsps/tess-data-alerts/hlsp_tess-data-alerts_tess_phot_00052204645-s01_tess_v1_lc.fits [Done]\n",
      "Downloading https://archive.stsci.edu//hlsps/tess-data-alerts/hlsp_tess-data-alerts_tess_phot_00052204645-s02_tess_v1_lc.fits [Done]\n",
      "Downloading https://archive.stsci.edu//hlsps/tess-data-alerts/hlsp_tess-data-alerts_tess_phot_00052368076-s01_tess_v1_lc.fits [Done]\n",
      "Downloading https://archive.stsci.edu//hlsps/tess-data-alerts/hlsp_tess-data-alerts_tess_phot_00052368076-s02_tess_v1_lc.fits [Done]\n",
      "Downloading https://archive.stsci.edu//hlsps/tess-data-alerts/hlsp_tess-data-alerts_tess_phot_00055650590-s01_tess_v1_lc.fits [Done]\n",
      "Downloading https://archive.stsci.edu//hlsps/tess-data-alerts/hlsp_tess-data-alerts_tess_phot_00055650590-s02_tess_v1_lc.fits [Done]\n",
      "Downloading https://archive.stsci.edu//hlsps/tess-data-alerts/hlsp_tess-data-alerts_tess_phot_00055652896-s01_tess_v1_lc.fits [Done]\n",
      "Downloading https://archive.stsci.edu//hlsps/tess-data-alerts/hlsp_tess-data-alerts_tess_phot_00055652896-s02_tess_v1_lc.fits [Done]\n",
      "Downloading https://archive.stsci.edu//hlsps/tess-data-alerts/hlsp_tess-data-alerts_tess_phot_00062483237-s01_tess_v1_lc.fits [Done]\n",
      "Downloading https://archive.stsci.edu//hlsps/tess-data-alerts/hlsp_tess-data-alerts_tess_phot_00070440470-s01_tess_v1_lc.fits [Done]\n",
      "Downloading https://archive.stsci.edu//hlsps/tess-data-alerts/hlsp_tess-data-alerts_tess_phot_00076923707-s02_tess_v1_lc.fits [Done]\n",
      "Downloading https://archive.stsci.edu//hlsps/tess-data-alerts/hlsp_tess-data-alerts_tess_phot_00076989773-s02_tess_v1_lc.fits [Done]\n",
      "Downloading https://archive.stsci.edu//hlsps/tess-data-alerts/hlsp_tess-data-alerts_tess_phot_00089020549-s01_tess_v1_lc.fits [Done]\n",
      "Downloading https://archive.stsci.edu//hlsps/tess-data-alerts/hlsp_tess-data-alerts_tess_phot_00092352620-s01_tess_v1_lc.fits [Done]\n",
      "Downloading https://archive.stsci.edu//hlsps/tess-data-alerts/hlsp_tess-data-alerts_tess_phot_00097409519-s01_tess_v1_lc.fits [Done]\n",
      "Downloading https://archive.stsci.edu//hlsps/tess-data-alerts/hlsp_tess-data-alerts_tess_phot_00100100827-s02_tess_v1_lc.fits [Done]\n",
      "Downloading https://archive.stsci.edu//hlsps/tess-data-alerts/hlsp_tess-data-alerts_tess_phot_00140068425-s01_tess_v1_lc.fits [Done]\n",
      "Downloading https://archive.stsci.edu//hlsps/tess-data-alerts/hlsp_tess-data-alerts_tess_phot_00141608198-s01_tess_v1_lc.fits [Done]\n",
      "Downloading https://archive.stsci.edu//hlsps/tess-data-alerts/hlsp_tess-data-alerts_tess_phot_00141608198-s02_tess_v1_lc.fits [Done]\n",
      "Downloading https://archive.stsci.edu//hlsps/tess-data-alerts/hlsp_tess-data-alerts_tess_phot_00144065872-s01_tess_v1_lc.fits [Done]\n",
      "Downloading https://archive.stsci.edu//hlsps/tess-data-alerts/hlsp_tess-data-alerts_tess_phot_00149603524-s01_tess_v1_lc.fits [Done]\n",
      "Downloading https://archive.stsci.edu//hlsps/tess-data-alerts/hlsp_tess-data-alerts_tess_phot_00150098860-s01_tess_v1_lc.fits [Done]\n",
      "Downloading https://archive.stsci.edu//hlsps/tess-data-alerts/hlsp_tess-data-alerts_tess_phot_00150098860-s02_tess_v1_lc.fits [Done]\n",
      "Downloading https://archive.stsci.edu//hlsps/tess-data-alerts/hlsp_tess-data-alerts_tess_phot_00166739520-s02_tess_v1_lc.fits [Done]\n",
      "Downloading https://archive.stsci.edu//hlsps/tess-data-alerts/hlsp_tess-data-alerts_tess_phot_00167415965-s01_tess_v1_lc.fits [Done]\n",
      "Downloading https://archive.stsci.edu//hlsps/tess-data-alerts/hlsp_tess-data-alerts_tess_phot_00167415965-s02_tess_v1_lc.fits [Done]\n",
      "Downloading https://archive.stsci.edu//hlsps/tess-data-alerts/hlsp_tess-data-alerts_tess_phot_00176957796-s01_tess_v1_lc.fits [Done]\n",
      "Downloading https://archive.stsci.edu//hlsps/tess-data-alerts/hlsp_tess-data-alerts_tess_phot_00183532609-s02_tess_v1_lc.fits [Done]\n",
      "Downloading https://archive.stsci.edu//hlsps/tess-data-alerts/hlsp_tess-data-alerts_tess_phot_00183537452-s02_tess_v1_lc.fits [Done]\n",
      "Downloading https://archive.stsci.edu//hlsps/tess-data-alerts/hlsp_tess-data-alerts_tess_phot_00183979262-s01_tess_v1_lc.fits [Done]\n",
      "Downloading https://archive.stsci.edu//hlsps/tess-data-alerts/hlsp_tess-data-alerts_tess_phot_00183979262-s02_tess_v1_lc.fits [Done]\n",
      "Downloading https://archive.stsci.edu//hlsps/tess-data-alerts/hlsp_tess-data-alerts_tess_phot_00183985250-s02_tess_v1_lc.fits [Done]\n",
      "Downloading https://archive.stsci.edu//hlsps/tess-data-alerts/hlsp_tess-data-alerts_tess_phot_00201248411-s01_tess_v1_lc.fits [Done]\n",
      "Downloading https://archive.stsci.edu//hlsps/tess-data-alerts/hlsp_tess-data-alerts_tess_phot_00201248411-s02_tess_v1_lc.fits [Done]\n",
      "Downloading https://archive.stsci.edu//hlsps/tess-data-alerts/hlsp_tess-data-alerts_tess_phot_00206609630-s01_tess_v1_lc.fits [Done]\n",
      "Downloading https://archive.stsci.edu//hlsps/tess-data-alerts/hlsp_tess-data-alerts_tess_phot_00206609630-s02_tess_v1_lc.fits [Done]\n",
      "Downloading https://archive.stsci.edu//hlsps/tess-data-alerts/hlsp_tess-data-alerts_tess_phot_00207081058-s01_tess_v1_lc.fits [Done]\n",
      "Downloading https://archive.stsci.edu//hlsps/tess-data-alerts/hlsp_tess-data-alerts_tess_phot_00207141131-s02_tess_v1_lc.fits [Done]\n",
      "Downloading https://archive.stsci.edu//hlsps/tess-data-alerts/hlsp_tess-data-alerts_tess_phot_00211438925-s02_tess_v1_lc.fits [Done]\n",
      "Downloading https://archive.stsci.edu//hlsps/tess-data-alerts/hlsp_tess-data-alerts_tess_phot_00219338557-s01_tess_v1_lc.fits [Done]\n",
      "Downloading https://archive.stsci.edu//hlsps/tess-data-alerts/hlsp_tess-data-alerts_tess_phot_00230982885-s02_tess_v1_lc.fits [Done]\n",
      "Downloading https://archive.stsci.edu//hlsps/tess-data-alerts/hlsp_tess-data-alerts_tess_phot_00231663901-s01_tess_v1_lc.fits [Done]\n",
      "Downloading https://archive.stsci.edu//hlsps/tess-data-alerts/hlsp_tess-data-alerts_tess_phot_00231670397-s01_tess_v1_lc.fits [Done]\n",
      "Downloading https://archive.stsci.edu//hlsps/tess-data-alerts/hlsp_tess-data-alerts_tess_phot_00231702397-s01_tess_v1_lc.fits [Done]\n",
      "Downloading https://archive.stsci.edu//hlsps/tess-data-alerts/hlsp_tess-data-alerts_tess_phot_00231912935-s01_tess_v1_lc.fits [Done]\n",
      "Downloading https://archive.stsci.edu//hlsps/tess-data-alerts/hlsp_tess-data-alerts_tess_phot_00231912935-s02_tess_v1_lc.fits [Done]\n",
      "Downloading https://archive.stsci.edu//hlsps/tess-data-alerts/hlsp_tess-data-alerts_tess_phot_00234345288-s01_tess_v1_lc.fits [Done]\n",
      "Downloading https://archive.stsci.edu//hlsps/tess-data-alerts/hlsp_tess-data-alerts_tess_phot_00234345288-s02_tess_v1_lc.fits [Done]\n",
      "Downloading https://archive.stsci.edu//hlsps/tess-data-alerts/hlsp_tess-data-alerts_tess_phot_00234519192-s02_tess_v1_lc.fits [Done]\n",
      "Downloading https://archive.stsci.edu//hlsps/tess-data-alerts/hlsp_tess-data-alerts_tess_phot_00234523599-s01_tess_v1_lc.fits [Done]\n",
      "Downloading https://archive.stsci.edu//hlsps/tess-data-alerts/hlsp_tess-data-alerts_tess_phot_00234523599-s02_tess_v1_lc.fits [Done]\n",
      "Downloading https://archive.stsci.edu//hlsps/tess-data-alerts/hlsp_tess-data-alerts_tess_phot_00234994474-s01_tess_v1_lc.fits [Done]\n",
      "Downloading https://archive.stsci.edu//hlsps/tess-data-alerts/hlsp_tess-data-alerts_tess_phot_00235037761-s01_tess_v1_lc.fits [Done]\n",
      "Downloading https://archive.stsci.edu//hlsps/tess-data-alerts/hlsp_tess-data-alerts_tess_phot_00238176110-s01_tess_v1_lc.fits [Done]\n",
      "Downloading https://archive.stsci.edu//hlsps/tess-data-alerts/hlsp_tess-data-alerts_tess_phot_00251848941-s02_tess_v1_lc.fits [Done]\n",
      "Downloading https://archive.stsci.edu//hlsps/tess-data-alerts/hlsp_tess-data-alerts_tess_phot_00259962054-s01_tess_v1_lc.fits [Done]\n",
      "Downloading https://archive.stsci.edu//hlsps/tess-data-alerts/hlsp_tess-data-alerts_tess_phot_00259962054-s02_tess_v1_lc.fits [Done]\n",
      "Downloading https://archive.stsci.edu//hlsps/tess-data-alerts/hlsp_tess-data-alerts_tess_phot_00260043723-s01_tess_v1_lc.fits [Done]\n",
      "Downloading https://archive.stsci.edu//hlsps/tess-data-alerts/hlsp_tess-data-alerts_tess_phot_00260043723-s02_tess_v1_lc.fits [Done]\n",
      "Downloading https://archive.stsci.edu//hlsps/tess-data-alerts/hlsp_tess-data-alerts_tess_phot_00260271203-s01_tess_v1_lc.fits [Done]\n",
      "Downloading https://archive.stsci.edu//hlsps/tess-data-alerts/hlsp_tess-data-alerts_tess_phot_00260271203-s02_tess_v1_lc.fits [Done]\n",
      "Downloading https://archive.stsci.edu//hlsps/tess-data-alerts/hlsp_tess-data-alerts_tess_phot_00260304296-s01_tess_v1_lc.fits [Done]\n",
      "Downloading https://archive.stsci.edu//hlsps/tess-data-alerts/hlsp_tess-data-alerts_tess_phot_00260304296-s02_tess_v1_lc.fits [Done]\n",
      "Downloading https://archive.stsci.edu//hlsps/tess-data-alerts/hlsp_tess-data-alerts_tess_phot_00260609205-s01_tess_v1_lc.fits [Done]\n",
      "Downloading https://archive.stsci.edu//hlsps/tess-data-alerts/hlsp_tess-data-alerts_tess_phot_00260609205-s02_tess_v1_lc.fits [Done]\n",
      "Downloading https://archive.stsci.edu//hlsps/tess-data-alerts/hlsp_tess-data-alerts_tess_phot_00261136679-s01_tess_v1_lc.fits [Done]\n",
      "Downloading https://archive.stsci.edu//hlsps/tess-data-alerts/hlsp_tess-data-alerts_tess_phot_00262530407-s02_tess_v1_lc.fits [Done]\n",
      "Downloading https://archive.stsci.edu//hlsps/tess-data-alerts/hlsp_tess-data-alerts_tess_phot_00263003176-s01_tess_v1_lc.fits [Done]\n",
      "Downloading https://archive.stsci.edu//hlsps/tess-data-alerts/hlsp_tess-data-alerts_tess_phot_00266980320-s01_tess_v1_lc.fits [Done]\n",
      "Downloading https://archive.stsci.edu//hlsps/tess-data-alerts/hlsp_tess-data-alerts_tess_phot_00267263253-s01_tess_v1_lc.fits [Done]\n",
      "Downloading https://archive.stsci.edu//hlsps/tess-data-alerts/hlsp_tess-data-alerts_tess_phot_00270341214-s01_tess_v1_lc.fits [Done]\n",
      "Downloading https://archive.stsci.edu//hlsps/tess-data-alerts/hlsp_tess-data-alerts_tess_phot_00272086159-s02_tess_v1_lc.fits [Done]\n",
      "Downloading https://archive.stsci.edu//hlsps/tess-data-alerts/hlsp_tess-data-alerts_tess_phot_00277683130-s01_tess_v1_lc.fits [Done]\n",
      "Downloading https://archive.stsci.edu//hlsps/tess-data-alerts/hlsp_tess-data-alerts_tess_phot_00278683844-s01_tess_v1_lc.fits [Done]\n",
      "Downloading https://archive.stsci.edu//hlsps/tess-data-alerts/hlsp_tess-data-alerts_tess_phot_00278683844-s02_tess_v1_lc.fits [Done]\n",
      "Downloading https://archive.stsci.edu//hlsps/tess-data-alerts/hlsp_tess-data-alerts_tess_phot_00278866211-s01_tess_v1_lc.fits [Done]\n",
      "Downloading https://archive.stsci.edu//hlsps/tess-data-alerts/hlsp_tess-data-alerts_tess_phot_00278866211-s02_tess_v1_lc.fits [Done]\n",
      "Downloading https://archive.stsci.edu//hlsps/tess-data-alerts/hlsp_tess-data-alerts_tess_phot_00279741379-s01_tess_v1_lc.fits [Done]\n",
      "Downloading https://archive.stsci.edu//hlsps/tess-data-alerts/hlsp_tess-data-alerts_tess_phot_00279741379-s02_tess_v1_lc.fits [Done]\n",
      "Downloading https://archive.stsci.edu//hlsps/tess-data-alerts/hlsp_tess-data-alerts_tess_phot_00280830734-s01_tess_v1_lc.fits [Done]\n",
      "Downloading https://archive.stsci.edu//hlsps/tess-data-alerts/hlsp_tess-data-alerts_tess_phot_00280830734-s02_tess_v1_lc.fits [Done]\n",
      "Downloading https://archive.stsci.edu//hlsps/tess-data-alerts/hlsp_tess-data-alerts_tess_phot_00281459670-s01_tess_v1_lc.fits [Done]\n",
      "Downloading https://archive.stsci.edu//hlsps/tess-data-alerts/hlsp_tess-data-alerts_tess_phot_00281459670-s02_tess_v1_lc.fits [Done]\n",
      "Downloading https://archive.stsci.edu//hlsps/tess-data-alerts/hlsp_tess-data-alerts_tess_phot_00281541555-s01_tess_v1_lc.fits [Done]\n",
      "Downloading https://archive.stsci.edu//hlsps/tess-data-alerts/hlsp_tess-data-alerts_tess_phot_00281541555-s02_tess_v1_lc.fits [Done]\n",
      "Downloading https://archive.stsci.edu//hlsps/tess-data-alerts/hlsp_tess-data-alerts_tess_phot_00281575427-s01_tess_v1_lc.fits [Done]\n",
      "Downloading https://archive.stsci.edu//hlsps/tess-data-alerts/hlsp_tess-data-alerts_tess_phot_00281575427-s02_tess_v1_lc.fits [Done]\n",
      "Downloading https://archive.stsci.edu//hlsps/tess-data-alerts/hlsp_tess-data-alerts_tess_phot_00281781375-s01_tess_v1_lc.fits [Done]\n",
      "Downloading https://archive.stsci.edu//hlsps/tess-data-alerts/hlsp_tess-data-alerts_tess_phot_00281781375-s02_tess_v1_lc.fits [Done]\n",
      "Downloading https://archive.stsci.edu//hlsps/tess-data-alerts/hlsp_tess-data-alerts_tess_phot_00289793076-s01_tess_v1_lc.fits [Done]\n",
      "Downloading https://archive.stsci.edu//hlsps/tess-data-alerts/hlsp_tess-data-alerts_tess_phot_00290131778-s01_tess_v1_lc.fits [Done]\n",
      "Downloading https://archive.stsci.edu//hlsps/tess-data-alerts/hlsp_tess-data-alerts_tess_phot_00300293197-s01_tess_v1_lc.fits [Done]\n",
      "Downloading https://archive.stsci.edu//hlsps/tess-data-alerts/hlsp_tess-data-alerts_tess_phot_00300293197-s02_tess_v1_lc.fits [Done]\n",
      "Downloading https://archive.stsci.edu//hlsps/tess-data-alerts/hlsp_tess-data-alerts_tess_phot_00300871545-s01_tess_v1_lc.fits [Done]\n",
      "Downloading https://archive.stsci.edu//hlsps/tess-data-alerts/hlsp_tess-data-alerts_tess_phot_00300871545-s02_tess_v1_lc.fits [Done]\n",
      "Downloading https://archive.stsci.edu//hlsps/tess-data-alerts/hlsp_tess-data-alerts_tess_phot_00307210830-s02_tess_v1_lc.fits [Done]\n",
      "Downloading https://archive.stsci.edu//hlsps/tess-data-alerts/hlsp_tess-data-alerts_tess_phot_00309792357-s01_tess_v1_lc.fits [Done]\n",
      "Downloading https://archive.stsci.edu//hlsps/tess-data-alerts/hlsp_tess-data-alerts_tess_phot_00309792357-s02_tess_v1_lc.fits [Done]\n",
      "Downloading https://archive.stsci.edu//hlsps/tess-data-alerts/hlsp_tess-data-alerts_tess_phot_00314865962-s01_tess_v1_lc.fits [Done]\n",
      "Downloading https://archive.stsci.edu//hlsps/tess-data-alerts/hlsp_tess-data-alerts_tess_phot_00314865962-s02_tess_v1_lc.fits [Done]\n",
      "Downloading https://archive.stsci.edu//hlsps/tess-data-alerts/hlsp_tess-data-alerts_tess_phot_00316937670-s01_tess_v1_lc.fits [Done]\n",
      "Downloading https://archive.stsci.edu//hlsps/tess-data-alerts/hlsp_tess-data-alerts_tess_phot_00316937670-s02_tess_v1_lc.fits [Done]\n",
      "Downloading https://archive.stsci.edu//hlsps/tess-data-alerts/hlsp_tess-data-alerts_tess_phot_00336732616-s01_tess_v1_lc.fits [Done]\n",
      "Downloading https://archive.stsci.edu//hlsps/tess-data-alerts/hlsp_tess-data-alerts_tess_phot_00350618622-s01_tess_v1_lc.fits [Done]\n",
      "Downloading https://archive.stsci.edu//hlsps/tess-data-alerts/hlsp_tess-data-alerts_tess_phot_00350618622-s02_tess_v1_lc.fits [Done]\n",
      "Downloading https://archive.stsci.edu//hlsps/tess-data-alerts/hlsp_tess-data-alerts_tess_phot_00355509914-s01_tess_v1_lc.fits [Done]\n",
      "Downloading https://archive.stsci.edu//hlsps/tess-data-alerts/hlsp_tess-data-alerts_tess_phot_00355509914-s02_tess_v1_lc.fits [Done]\n",
      "Downloading https://archive.stsci.edu//hlsps/tess-data-alerts/hlsp_tess-data-alerts_tess_phot_00355703913-s01_tess_v1_lc.fits [Done]\n",
      "Downloading https://archive.stsci.edu//hlsps/tess-data-alerts/hlsp_tess-data-alerts_tess_phot_00355703913-s02_tess_v1_lc.fits [Done]\n",
      "Downloading https://archive.stsci.edu//hlsps/tess-data-alerts/hlsp_tess-data-alerts_tess_phot_00388104525-s01_tess_v1_lc.fits [Done]\n",
      "Downloading https://archive.stsci.edu//hlsps/tess-data-alerts/hlsp_tess-data-alerts_tess_phot_00388104525-s02_tess_v1_lc.fits [Done]\n",
      "Downloading https://archive.stsci.edu//hlsps/tess-data-alerts/hlsp_tess-data-alerts_tess_phot_00391949880-s01_tess_v1_lc.fits [Done]\n",
      "Downloading https://archive.stsci.edu//hlsps/tess-data-alerts/hlsp_tess-data-alerts_tess_phot_00394137592-s01_tess_v1_lc.fits [Done]\n",
      "Downloading https://archive.stsci.edu//hlsps/tess-data-alerts/hlsp_tess-data-alerts_tess_phot_00403224672-s01_tess_v1_lc.fits [Done]\n",
      "Downloading https://archive.stsci.edu//hlsps/tess-data-alerts/hlsp_tess-data-alerts_tess_phot_00410153553-s01_tess_v1_lc.fits [Done]\n",
      "Downloading https://archive.stsci.edu//hlsps/tess-data-alerts/hlsp_tess-data-alerts_tess_phot_00410214986-s01_tess_v1_lc.fits [Done]\n",
      "Downloading https://archive.stsci.edu//hlsps/tess-data-alerts/hlsp_tess-data-alerts_tess_phot_00425934411-s01_tess_v1_lc.fits [Done]\n",
      "Downloading https://archive.stsci.edu//hlsps/tess-data-alerts/hlsp_tess-data-alerts_tess_phot_00425934411-s02_tess_v1_lc.fits [Done]\n",
      "Downloading https://archive.stsci.edu//hlsps/tess-data-alerts/hlsp_tess-data-alerts_tess_phot_00425997655-s02_tess_v1_lc.fits [Done]\n",
      "Downloading https://archive.stsci.edu//hlsps/tess-data-alerts/hlsp_tess-data-alerts_tess_phot_00441462736-s02_tess_v1_lc.fits [Done]\n"
     ]
    }
   ],
   "source": [
    "%matplotlib inline\n",
    "import matplotlib.pyplot as plt\n",
    "from astropy.io import fits\n",
    "import numpy as np\n",
    "\n",
    "base_url = 'https://archive.stsci.edu/'\n",
    "\n",
    "for table_row in bs.find_all('tr')[13:-7]: \n",
    "    data = table_row.find_all('td')\n",
    "    links = table_row.find_all('a')\n",
    "    tic_id = data[0].text\n",
    "    sector_id = data[2].text\n",
    "    \n",
    "    lc_link = None\n",
    "    for link in links: \n",
    "        if link.get('href').endswith('lc.fits'):\n",
    "            lc_link = base_url + link.get('href')\n",
    "        \n",
    "    if lc_link is not None and tic_id not in list(archive[sector_id]):\n",
    "        rel_path = '{0}/{1}'.format(sector_id, tic_id) \n",
    "        if not rel_path in archive: \n",
    "            path = download_file(lc_link)\n",
    "\n",
    "            f = fits.getdata(path)\n",
    "            header = fits.getheader(path)\n",
    "\n",
    "            lc = LightCurve(times=f['TIME'][~np.isnan(f[\"TIME\"]) & ~np.isnan(f[\"PDCSAP_FLUX\"]) & (f['PDCSAP_FLUX'] != 0)], \n",
    "                            fluxes=f['PDCSAP_FLUX'][~np.isnan(f[\"TIME\"])& ~np.isnan(f[\"PDCSAP_FLUX\"]) & (f['PDCSAP_FLUX'] != 0)], \n",
    "                            name=header['OBJECT'])\n",
    "            data = np.vstack([lc.times.jd, lc.fluxes])\n",
    "            dset = archive.create_dataset(rel_path, data=data, compression='lzf')        "
   ]
  },
  {
   "cell_type": "code",
   "execution_count": 125,
   "metadata": {},
   "outputs": [],
   "source": [
    "for sector in archive: \n",
    "    for target in archive[sector]: \n",
    "        entry = csv_table.loc[int(target)]\n",
    "        \n",
    "        colnames = list(entry.colnames)\n",
    "        colnames.pop(colnames.index('Disposition'))\n",
    "        \n",
    "        keys, values = colnames, [entry[col] for col in colnames]\n",
    "        for k, v in zip(keys, values):\n",
    "            if not isinstance(v, str): \n",
    "                archive[sector][target].attrs[k] = v"
   ]
  },
  {
   "cell_type": "code",
   "execution_count": 129,
   "metadata": {},
   "outputs": [],
   "source": [
    "archive.close()"
   ]
  },
  {
   "cell_type": "code",
   "execution_count": null,
   "metadata": {},
   "outputs": [],
   "source": []
  }
 ],
 "metadata": {
  "kernelspec": {
   "display_name": "Python 3",
   "language": "python",
   "name": "python3"
  },
  "language_info": {
   "codemirror_mode": {
    "name": "ipython",
    "version": 3
   },
   "file_extension": ".py",
   "mimetype": "text/x-python",
   "name": "python",
   "nbconvert_exporter": "python",
   "pygments_lexer": "ipython3",
   "version": "3.5.4"
  }
 },
 "nbformat": 4,
 "nbformat_minor": 2
}
