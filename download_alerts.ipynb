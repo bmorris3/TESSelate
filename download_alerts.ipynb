{
 "cells": [
  {
   "cell_type": "markdown",
   "metadata": {},
   "source": [
    "# Download alerts and related info"
   ]
  },
  {
   "cell_type": "code",
   "execution_count": null,
   "metadata": {},
   "outputs": [],
   "source": [
    "from bs4 import BeautifulSoup\n",
    "from astropy.utils.data import download_file\n",
    "from astropy.table import Table"
   ]
  },
  {
   "cell_type": "markdown",
   "metadata": {},
   "source": [
    "Download the `tar.gz` file with all of the light curves"
   ]
  },
  {
   "cell_type": "code",
   "execution_count": null,
   "metadata": {},
   "outputs": [],
   "source": [
    "alerts_url = 'https://archive.stsci.edu/prepds/tess-data-alerts/'\n",
    "alerts_path = download_file(alerts_url)"
   ]
  },
  {
   "cell_type": "code",
   "execution_count": null,
   "metadata": {},
   "outputs": [],
   "source": [
    "csv_url = 'https://archive.stsci.edu/hlsps/tess-data-alerts/hlsp_tess-data-alerts_tess_phot_alert-summary-s01+s02_tess_v5_spoc.csv'\n",
    "csv_table = Table.read(download_file(csv_url), format='csv')"
   ]
  },
  {
   "cell_type": "code",
   "execution_count": null,
   "metadata": {},
   "outputs": [],
   "source": [
    "csv_table.add_index('#tic_id')"
   ]
  },
  {
   "cell_type": "code",
   "execution_count": null,
   "metadata": {},
   "outputs": [],
   "source": [
    "csv_table"
   ]
  },
  {
   "cell_type": "code",
   "execution_count": null,
   "metadata": {},
   "outputs": [],
   "source": [
    "bs = BeautifulSoup(open(alerts_path, 'r+', encoding=\"utf-8\"), 'html.parser')"
   ]
  },
  {
   "cell_type": "code",
   "execution_count": null,
   "metadata": {},
   "outputs": [],
   "source": [
    "import h5py\n",
    "\n",
    "archive = h5py.File('archive.hdf5', 'r+')\n",
    "for group in ['1', '2', '3']:\n",
    "    if not group in archive:\n",
    "        archive.create_group(group)"
   ]
  },
  {
   "cell_type": "code",
   "execution_count": null,
   "metadata": {},
   "outputs": [],
   "source": [
    "from toolkit import LightCurve, concatenate_light_curves"
   ]
  },
  {
   "cell_type": "code",
   "execution_count": null,
   "metadata": {},
   "outputs": [],
   "source": [
    "len(\"00002760710\")"
   ]
  },
  {
   "cell_type": "code",
   "execution_count": null,
   "metadata": {},
   "outputs": [],
   "source": [
    "%matplotlib inline\n",
    "import matplotlib.pyplot as plt\n",
    "from astropy.io import fits\n",
    "import numpy as np\n",
    "\n",
    "base_url = 'https://archive.stsci.edu/'\n",
    "\n",
    "for table_row in bs.find_all('tr')[13:-7]: \n",
    "    data = table_row.find_all('td')\n",
    "    links = table_row.find_all('a')\n",
    "\n",
    "    lc_link = None\n",
    "    for link in links: \n",
    "        if link.get('href').endswith('lc.fits'):\n",
    "            lc_link = base_url + link.get('href')\n",
    "            \n",
    "    if lc_link is not None:\n",
    "        sector_id = lc_link[-18:-16]\n",
    "        tic_id = lc_link[-31:-20]\n",
    "        \n",
    "        rel_path = '{0}/{1}'.format(sector_id, tic_id) \n",
    "\n",
    "        if not rel_path in archive: \n",
    "            path = download_file(lc_link)\n",
    "\n",
    "            f = fits.getdata(path)\n",
    "            header = fits.getheader(path)\n",
    "\n",
    "            lc = LightCurve(times=f['TIME'][~np.isnan(f[\"TIME\"]) & ~np.isnan(f[\"PDCSAP_FLUX\"]) & (f['PDCSAP_FLUX'] != 0)], \n",
    "                            fluxes=f['PDCSAP_FLUX'][~np.isnan(f[\"TIME\"])& ~np.isnan(f[\"PDCSAP_FLUX\"]) & (f['PDCSAP_FLUX'] != 0)], \n",
    "                            name=header['OBJECT'])\n",
    "            data = np.vstack([lc.times.jd, lc.fluxes])\n",
    "            dset = archive.create_dataset(rel_path, data=data, compression='lzf')"
   ]
  },
  {
   "cell_type": "code",
   "execution_count": null,
   "metadata": {},
   "outputs": [],
   "source": [
    "for sector in archive: \n",
    "    for target in archive[sector]: \n",
    "        try: \n",
    "            entry = csv_table.loc[int(target)]\n",
    "\n",
    "            colnames = list(entry.colnames)\n",
    "            colnames.pop(colnames.index('Disposition'))\n",
    "\n",
    "            keys, values = colnames, [entry[col] for col in colnames]\n",
    "            for k, v in zip(keys, values):\n",
    "                if not isinstance(v, str): \n",
    "                    archive[sector][target].attrs[k] = v\n",
    "        except KeyError: \n",
    "            pass"
   ]
  },
  {
   "cell_type": "code",
   "execution_count": null,
   "metadata": {},
   "outputs": [],
   "source": [
    "archive.close()"
   ]
  },
  {
   "cell_type": "code",
   "execution_count": null,
   "metadata": {},
   "outputs": [],
   "source": []
  }
 ],
 "metadata": {
  "kernelspec": {
   "display_name": "Python 3",
   "language": "python",
   "name": "python3"
  },
  "language_info": {
   "codemirror_mode": {
    "name": "ipython",
    "version": 3
   },
   "file_extension": ".py",
   "mimetype": "text/x-python",
   "name": "python",
   "nbconvert_exporter": "python",
   "pygments_lexer": "ipython3",
   "version": "3.5.4"
  }
 },
 "nbformat": 4,
 "nbformat_minor": 2
}
